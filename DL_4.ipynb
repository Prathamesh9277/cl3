{
 "cells": [
  {
   "cell_type": "code",
   "execution_count": null,
   "id": "8303cec3",
   "metadata": {},
   "outputs": [],
   "source": [
    "'''4.Perform Sentiment Analysis in the network graph using\n",
    "RNN.'''"
   ]
  },
  {
   "cell_type": "code",
   "execution_count": null,
   "id": "db26abfa",
   "metadata": {},
   "outputs": [],
   "source": [
    "import numpy as np\n",
    "import tensorflow as tf\n",
    "from tensorflow import keras\n",
    "from tensorflow.keras import layers\n",
    "from tensorflow.keras.datasets import imdb\n",
    "from tensorflow.keras.preprocessing.sequence import pad_sequences"
   ]
  },
  {
   "cell_type": "code",
   "execution_count": null,
   "id": "b1e27a2e",
   "metadata": {},
   "outputs": [],
   "source": [
    "VOCAB_SIZE = 10000\n",
    "MAX_LEN = 200\n",
    "EMBEDDING_DIM = 16\n",
    "LSTM_UNITS = 32\n",
    "BATCH_SIZE = 64\n",
    "EPOCHS = 3\n",
    "\n",
    "print(\"Loading and pre-processing data...\")\n",
    "(x_train, y_train), (x_test, y_test) = imdb.load_data(num_words=VOCAB_SIZE)\n",
    "x_train_pad = pad_sequences(x_train, maxlen=MAX_LEN, padding='post', truncating='post')\n",
    "x_test_pad = pad_sequences(x_test, maxlen=MAX_LEN, padding='post', truncating='post')\n",
    "print(f\"Data shapes: x_train={x_train_pad.shape}, x_test={x_test_pad.shape}\")\n"
   ]
  },
  {
   "cell_type": "code",
   "execution_count": null,
   "id": "012f189d",
   "metadata": {},
   "outputs": [],
   "source": [
    "model = keras.Sequential([\n",
    "    keras.Input(shape=(MAX_LEN,)),\n",
    "    layers.Embedding(input_dim=VOCAB_SIZE, output_dim=EMBEDDING_DIM, mask_zero=True),\n",
    "    layers.LSTM(LSTM_UNITS),\n",
    "    layers.Dense(1, activation='sigmoid')\n",
    "])\n"
   ]
  },
  {
   "cell_type": "code",
   "execution_count": null,
   "id": "14c895c4",
   "metadata": {},
   "outputs": [],
   "source": [
    "\n",
    "model.compile(loss='binary_crossentropy',\n",
    "              optimizer='adam',\n",
    "              metrics=['accuracy'])\n",
    "\n",
    "print(f\"\\nTraining model...\")\n",
    "history = model.fit(\n",
    "    x_train_pad, y_train,\n",
    "    batch_size=BATCH_SIZE,\n",
    "    epochs=EPOCHS,\n",
    "    validation_split=0.1\n",
    ")\n",
    "\n",
    "print(\"\\nEvaluating model...\")\n",
    "loss, accuracy = model.evaluate(x_test_pad, y_test, verbose=0)\n",
    "print(f'Test Loss: {loss:.4f}')\n",
    "print(f'Test Accuracy: {accuracy:.4f}')\n"
   ]
  }
 ],
 "metadata": {
  "language_info": {
   "name": "python"
  }
 },
 "nbformat": 4,
 "nbformat_minor": 5
}
