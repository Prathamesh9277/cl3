{
 "cells": [
  {
   "cell_type": "code",
   "execution_count": null,
   "id": "5362840e",
   "metadata": {},
   "outputs": [],
   "source": [
    "'''2.Build a Multiclass classifier using the CNN model. Use\n",
    "MNIST or any other suitable dataset. a. Perform Data Pre- processing b. Define Model and perform training c. Evaluate\n",
    "Results using confusion matrix.'''"
   ]
  },
  {
   "cell_type": "code",
   "execution_count": null,
   "id": "90cd85f2",
   "metadata": {},
   "outputs": [],
   "source": [
    "import numpy as np\n",
    "import tensorflow as tf\n",
    "from tensorflow import keras\n",
    "from tensorflow.keras import layers\n",
    "from sklearn.metrics import confusion_matrix, classification_report\n",
    "import seaborn as sns # For plotting the confusion matrix nicely\n",
    "import matplotlib.pyplot as plt\n"
   ]
  },
  {
   "cell_type": "code",
   "execution_count": null,
   "id": "f6b2b3af",
   "metadata": {},
   "outputs": [],
   "source": [
    "# --- Configuration ---\n",
    "batch_size = 128\n",
    "epochs = 5 # Keep low for quick demonstration\n",
    "num_classes = 10\n",
    "input_shape = (28, 28, 1) # MNIST images are 28x28 grayscale\n",
    "\n",
    "# --- a. Perform Data Pre-processing ---\n",
    "print(\"Loading and pre-processing MNIST data...\")\n",
    "(x_train, y_train), (x_test, y_test) = keras.datasets.mnist.load_data()\n"
   ]
  },
  {
   "cell_type": "code",
   "execution_count": null,
   "id": "388111a3",
   "metadata": {},
   "outputs": [],
   "source": [
    "# Scale images to the [0, 1] range\n",
    "x_train = x_train.astype(\"float32\") / 255\n",
    "x_test = x_test.astype(\"float32\") / 255\n",
    "\n",
    "# Make sure images have shape (28, 28, 1)\n",
    "x_train = np.expand_dims(x_train, -1)\n",
    "x_test = np.expand_dims(x_test, -1)\n"
   ]
  },
  {
   "cell_type": "code",
   "execution_count": null,
   "id": "55bd0879",
   "metadata": {},
   "outputs": [],
   "source": [
    "\n",
    "# Convert class vectors to binary class matrices (one-hot encoding)\n",
    "y_train_cat = keras.utils.to_categorical(y_train, num_classes)\n",
    "y_test_cat = keras.utils.to_categorical(y_test, num_classes)\n",
    "print(f\"x_train shape: {x_train.shape}\")\n",
    "print(f\"{x_train.shape[0]} train samples, {x_test.shape[0]} test samples\")\n",
    "\n",
    "\n",
    "# --- b. Define Model and Perform Training ---\n",
    "print(\"\\nBuilding the CNN model...\")\n",
    "model = keras.Sequential(\n",
    "    [\n",
    "        keras.Input(shape=input_shape),\n",
    "        layers.Conv2D(32, kernel_size=(3, 3), activation=\"relu\"),\n",
    "        layers.MaxPooling2D(pool_size=(2, 2)),\n",
    "        layers.Conv2D(64, kernel_size=(3, 3), activation=\"relu\"),\n",
    "        layers.MaxPooling2D(pool_size=(2, 2)),\n",
    "        layers.Flatten(),\n",
    "        layers.Dropout(0.5), # Dropout for regularization\n",
    "        layers.Dense(num_classes, activation=\"softmax\"),\n",
    "    ]\n",
    ")\n",
    "\n",
    "model.summary() # Print model architecture\n"
   ]
  },
  {
   "cell_type": "code",
   "execution_count": null,
   "id": "3320f017",
   "metadata": {},
   "outputs": [],
   "source": [
    "\n",
    "print(\"\\nCompiling and training the model...\")\n",
    "model.compile(loss=\"categorical_crossentropy\", optimizer=\"adam\", metrics=[\"accuracy\"])\n",
    "\n",
    "history = model.fit(x_train, y_train_cat, batch_size=batch_size, epochs=epochs, validation_split=0.1)\n",
    "\n"
   ]
  },
  {
   "cell_type": "code",
   "execution_count": null,
   "id": "53366299",
   "metadata": {},
   "outputs": [],
   "source": [
    "# --- c. Evaluate Results using Confusion Matrix ---\n",
    "print(\"\\nEvaluating the model on the test set...\")\n",
    "score = model.evaluate(x_test, y_test_cat, verbose=0)\n",
    "print(f\"Test loss: {score[0]:.4f}\")\n",
    "print(f\"Test accuracy: {score[1]:.4f}\")\n",
    "\n",
    "# Get predictions for the test set\n",
    "y_pred_probabilities = model.predict(x_test)\n",
    "y_pred_classes = np.argmax(y_pred_probabilities, axis=1) # Get class index with highest probability\n"
   ]
  },
  {
   "cell_type": "code",
   "execution_count": null,
   "id": "9dff988f",
   "metadata": {},
   "outputs": [],
   "source": [
    "\n",
    "# Generate the confusion matrix\n",
    "print(\"\\nGenerating Confusion Matrix...\")\n",
    "cm = confusion_matrix(y_test, y_pred_classes) # Compare true labels (y_test) with predicted labels\n",
    "\n",
    "# Optional: Display the confusion matrix nicely using seaborn\n",
    "plt.figure(figsize=(8, 6))\n",
    "sns.heatmap(cm, annot=True, fmt='d', cmap='Blues', xticklabels=range(num_classes), yticklabels=range(num_classes))\n",
    "plt.xlabel('Predicted Label')\n",
    "plt.ylabel('True Label')\n",
    "plt.title('Confusion Matrix')\n",
    "plt.show()\n",
    "\n",
    "# Optional: Print classification report for more metrics\n",
    "print(\"\\nClassification Report:\")\n",
    "print(classification_report(y_test, y_pred_classes, target_names=[str(i) for i in range(num_classes)]))\n"
   ]
  }
 ],
 "metadata": {
  "language_info": {
   "name": "python"
  }
 },
 "nbformat": 4,
 "nbformat_minor": 5
}
