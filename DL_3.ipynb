{
 "cells": [
  {
   "cell_type": "code",
   "execution_count": null,
   "id": "cf739501",
   "metadata": {},
   "outputs": [],
   "source": [
    "'''3.Design and implement a CNN for Image Classification a)\n",
    "Select a suitable image classification dataset (medical\n",
    "imaging, agricultural, etc.). b) Optimized with different\n",
    "hyper-parameters including learning rate, filter size, no. of\n",
    "layers, optimizers, dropouts, etc'''"
   ]
  },
  {
   "cell_type": "code",
   "execution_count": null,
   "id": "e032b137",
   "metadata": {},
   "outputs": [],
   "source": [
    "import numpy as np\n",
    "import tensorflow as tf\n",
    "from tensorflow import keras\n",
    "from tensorflow.keras import layers\n",
    "from tensorflow.keras.datasets import cifar10\n"
   ]
  },
  {
   "cell_type": "code",
   "execution_count": null,
   "id": "9890aef2",
   "metadata": {},
   "outputs": [],
   "source": [
    "# --- Configuration ---\n",
    "LEARNING_RATE = 0.001\n",
    "EPOCHS = 5 # Keep low for quick demo\n",
    "BATCH_SIZE = 64\n",
    "NUM_CLASSES = 10\n",
    "INPUT_SHAPE = (32, 32, 3)\n",
    "\n",
    "# --- 1. Load and Pre-process Data ---\n",
    "(x_train, y_train), (x_test, y_test) = cifar10.load_data()\n",
    "\n",
    "x_train = x_train.astype(\"float32\") / 255.0\n",
    "x_test = x_test.astype(\"float32\") / 255.0\n",
    "\n",
    "y_train_cat = keras.utils.to_categorical(y_train, NUM_CLASSES)\n",
    "y_test_cat = keras.utils.to_categorical(y_test, NUM_CLASSES)\n"
   ]
  },
  {
   "cell_type": "code",
   "execution_count": null,
   "id": "3993c03f",
   "metadata": {},
   "outputs": [],
   "source": [
    "# --- 2. Define and Compile CNN Model ---\n",
    "model = keras.Sequential(\n",
    "    [\n",
    "        keras.Input(shape=INPUT_SHAPE),\n",
    "        layers.Conv2D(32, kernel_size=(3, 3), activation=\"relu\"),\n",
    "        layers.MaxPooling2D(pool_size=(2, 2)),\n",
    "        layers.Conv2D(64, kernel_size=(3, 3), activation=\"relu\"),\n",
    "        layers.MaxPooling2D(pool_size=(2, 2)),\n",
    "        layers.Flatten(),\n",
    "        layers.Dropout(0.5),\n",
    "        layers.Dense(NUM_CLASSES, activation=\"softmax\"),\n",
    "    ]\n",
    ")\n",
    "\n",
    "# model.summary() # Optional: uncomment to see architecture\n",
    "\n",
    "optimizer = keras.optimizers.Adam(learning_rate=LEARNING_RATE)\n",
    "model.compile(loss=\"categorical_crossentropy\", optimizer=optimizer, metrics=[\"accuracy\"])\n"
   ]
  },
  {
   "cell_type": "code",
   "execution_count": null,
   "id": "aae25da0",
   "metadata": {},
   "outputs": [],
   "source": [
    "# --- 3. Train Model ---\n",
    "print(\"Training model...\")\n",
    "history = model.fit(\n",
    "    x_train, y_train_cat,\n",
    "    batch_size=BATCH_SIZE,\n",
    "    epochs=EPOCHS,\n",
    "    validation_split=0.1 # Using part of training data for validation\n",
    ")\n"
   ]
  },
  {
   "cell_type": "code",
   "execution_count": null,
   "id": "22381a65",
   "metadata": {},
   "outputs": [],
   "source": [
    "# --- 4. Evaluate Model ---\n",
    "print(\"\\nEvaluating model...\")\n",
    "score = model.evaluate(x_test, y_test_cat, verbose=0)\n",
    "print(f\"Test Loss: {score[0]:.4f}\")\n",
    "print(f\"Test Accuracy: {score[1]:.4f}\")\n",
    "\n"
   ]
  }
 ],
 "metadata": {
  "language_info": {
   "name": "python"
  }
 },
 "nbformat": 4,
 "nbformat_minor": 5
}
