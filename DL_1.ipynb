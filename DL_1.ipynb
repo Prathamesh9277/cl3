{
 "cells": [
  {
   "cell_type": "code",
   "execution_count": null,
   "id": "0dd806bd",
   "metadata": {},
   "outputs": [],
   "source": [
    "''' Problem Statement – Real estate agents want help to predict\n",
    "the house price for regions in the USA. He gave you the\n",
    "dataset to work on and you decided to use the Linear\n",
    "Regression Model. Create a model that will help himto\n",
    "estimate what the house would sell for. URL for a dataset:\n",
    "https://github.com/huzaifsayed/Linear-Regression-Modelfor-House-PricePrediction/blob/master/USA_Housing.csv '''"
   ]
  },
  {
   "cell_type": "code",
   "execution_count": null,
   "id": "0fd38a80",
   "metadata": {},
   "outputs": [],
   "source": [
    "import pandas as pd\n",
    "from sklearn.model_selection import train_test_split\n",
    "from sklearn.linear_model import LinearRegression\n",
    "from sklearn import metrics\n",
    "import numpy as np"
   ]
  },
  {
   "cell_type": "code",
   "execution_count": null,
   "id": "9c9e323b",
   "metadata": {},
   "outputs": [],
   "source": [
    "# 1. Load and Prepare Data\n",
    "url = r\"C:\\Users\\Jayesh\\Desktop\\CLIV\\DL\\USA_Housing.csv\"\n",
    "df = pd.read_csv(url)\n",
    "df = df.drop('Address', axis=1)\n"
   ]
  },
  {
   "cell_type": "code",
   "execution_count": null,
   "id": "d84f5471",
   "metadata": {},
   "outputs": [],
   "source": [
    "# 2. Define Features (X) and Target (y)\n",
    "X = df.drop('Price', axis=1)\n",
    "y = df['Price']\n"
   ]
  },
  {
   "cell_type": "code",
   "execution_count": null,
   "id": "163d3189",
   "metadata": {},
   "outputs": [],
   "source": [
    "# 3. Split Data\n",
    "X_train, X_test, y_train, y_test = train_test_split(X, y, test_size=0.3, random_state=42)\n",
    "\n",
    "# 4. Train Model\n",
    "model = LinearRegression()\n",
    "model.fit(X_train, y_train)\n"
   ]
  },
  {
   "cell_type": "code",
   "execution_count": null,
   "id": "67d667d8",
   "metadata": {},
   "outputs": [],
   "source": [
    "# 5. Evaluate Model\n",
    "print(\"--- Model Evaluation ---\")\n",
    "y_pred = model.predict(X_test)\n",
    "print(f\"MAE: {metrics.mean_absolute_error(y_test, y_pred):.2f}\")\n",
    "print(f\"MSE: {metrics.mean_squared_error(y_test, y_pred):.2f}\")\n",
    "print(f\"RMSE: {np.sqrt(metrics.mean_squared_error(y_test, y_pred)):.2f}\")\n",
    "print(f\"R-squared: {metrics.r2_score(y_test, y_pred):.4f}\")\n"
   ]
  },
  {
   "cell_type": "code",
   "execution_count": null,
   "id": "ffaf7cdc",
   "metadata": {},
   "outputs": [],
   "source": [
    "# 6. Predict Price for a New House Example\n",
    "print(\"\\n--- Predicting Price for a New House ---\")\n",
    "new_house_features = pd.DataFrame({\n",
    "    'Avg. Area Income': [75000],\n",
    "    'Avg. Area House Age': [6],\n",
    "    'Avg. Area Number of Rooms': [7],\n",
    "    'Avg. Area Number of Bedrooms': [4],\n",
    "    'Area Population': [35000]\n",
    "}, index=[0]) \n",
    "\n",
    "predicted_price = model.predict(new_house_features)\n",
    "print(f\"Estimated selling price: ${predicted_price[0]:,.2f}\")\n"
   ]
  }
 ],
 "metadata": {
  "language_info": {
   "name": "python"
  }
 },
 "nbformat": 4,
 "nbformat_minor": 5
}
